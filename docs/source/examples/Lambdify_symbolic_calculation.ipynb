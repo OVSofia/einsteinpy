{
 "cells": [
  {
   "cell_type": "markdown",
   "metadata": {},
   "source": [
    "# Lambdify in symbolic module"
   ]
  },
  {
   "cell_type": "code",
   "execution_count": 1,
   "metadata": {},
   "outputs": [],
   "source": [
    "import sympy\n",
    "import numpy as np\n",
    "from sympy import cos, sin, symbols\n",
    "from einsteinpy.symbolic import BaseRelativityTensor, MetricTensor\n",
    "\n",
    "sympy.init_printing()"
   ]
  },
  {
   "cell_type": "markdown",
   "metadata": {},
   "source": [
    "### Calculating Schwarzschild Metric"
   ]
  },
  {
   "cell_type": "code",
   "execution_count": 2,
   "metadata": {},
   "outputs": [],
   "source": [
    "    symbolstr = \"t r theta phi\"\n",
    "    syms = symbols(symbolstr)\n",
    "    G, M, c, a = symbols(\"G M c a\")\n",
    "    list2d = np.zeros((4, 4), dtype=int).tolist()\n",
    "    list2d[0][0] = 1 - (a / syms[1])\n",
    "    list2d[1][1] = -1 / ((1 - (a / syms[1])) * (c ** 2))\n",
    "    list2d[2][2] = -1 * (syms[1] ** 2) / (c ** 2)\n",
    "    list2d[3][3] = -1 * (syms[1] ** 2) * (sin(syms[2]) ** 2) / (c ** 2)\n",
    "    sch = MetricTensor(list2d, syms)"
   ]
  },
  {
   "cell_type": "markdown",
   "metadata": {},
   "source": [
    "### Returns of tensor_lambdify"
   ]
  },
  {
   "cell_type": "code",
   "execution_count": 3,
   "metadata": {},
   "outputs": [
    {
     "data": {
      "text/plain": [
       "((t, r, theta, phi, a, c),\n",
       " <function numpy._lambdifygenerated(t, r, theta, phi, a, c)>)"
      ]
     },
     "execution_count": 3,
     "metadata": {},
     "output_type": "execute_result"
    }
   ],
   "source": [
    "lambdify = sch.tensor_lambdify()\n",
    "lambdify"
   ]
  }
 ],
 "metadata": {
  "kernelspec": {
   "display_name": "Python 3",
   "language": "python",
   "name": "python3"
  },
  "language_info": {
   "codemirror_mode": {
    "name": "ipython",
    "version": 3
   },
   "file_extension": ".py",
   "mimetype": "text/x-python",
   "name": "python",
   "nbconvert_exporter": "python",
   "pygments_lexer": "ipython3",
   "version": "3.6.8"
  }
 },
 "nbformat": 4,
 "nbformat_minor": 2
}
